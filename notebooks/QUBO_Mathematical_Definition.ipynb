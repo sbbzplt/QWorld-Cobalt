{
  "cells": [
    {
      "cell_type": "markdown",
      "metadata": {
        "id": "view-in-github",
        "colab_type": "text"
      },
      "source": [
        "<a href=\"https://colab.research.google.com/github/sbbzplt/QWorld-Cobalt/blob/master/notebooks/QUBO_Mathematical_Definition.ipynb\" target=\"_parent\"><img src=\"https://colab.research.google.com/assets/colab-badge.svg\" alt=\"Open In Colab\"/></a>"
      ]
    },
    {
      "cell_type": "markdown",
      "id": "1ee810ec",
      "metadata": {
        "id": "1ee810ec"
      },
      "source": [
        "<table width = \"100%\">\n",
        "  <tr style=\"background-color:white;\">\n",
        "    <!-- QWorld Logo -->\n",
        "    <td style=\"text-align:left;width:200px;\">\n",
        "        <a href=\"https://qworld.net/\" target=\"_blank\"><img src=\"https://github.com/sbbzplt/QWorld-Cobalt/blob/master/images/QWorld.png?raw=1\"> </a></td>\n",
        "    <td style=\"text-align:right;vertical-align:bottom;font-size:16px;\">\n",
        "        Prepared by AkashNarayanan B</td>    \n",
        "</table>\n",
        "<hr>"
      ]
    },
    {
      "cell_type": "code",
      "source": [
        "!git clone https://github.com/sbbzplt/QWorld-Cobalt\n",
        "%cd QWorld-Cobalt/notebooks/"
      ],
      "metadata": {
        "id": "eRBkCvsLsbGo",
        "outputId": "bb584739-6c46-4b0b-e750-78a08f1e7124",
        "colab": {
          "base_uri": "https://localhost:8080/"
        }
      },
      "id": "eRBkCvsLsbGo",
      "execution_count": 1,
      "outputs": [
        {
          "output_type": "stream",
          "name": "stdout",
          "text": [
            "Cloning into 'QWorld-Cobalt'...\n",
            "remote: Enumerating objects: 115, done.\u001b[K\n",
            "remote: Counting objects: 100% (115/115), done.\u001b[K\n",
            "remote: Compressing objects: 100% (115/115), done.\u001b[K\n",
            "remote: Total 115 (delta 23), reused 0 (delta 0), pack-reused 0\u001b[K\n",
            "Receiving objects: 100% (115/115), 3.22 MiB | 7.64 MiB/s, done.\n",
            "Resolving deltas: 100% (23/23), done.\n",
            "/content/QWorld-Cobalt/notebooks\n"
          ]
        }
      ]
    },
    {
      "cell_type": "markdown",
      "id": "e2e6cf1f",
      "metadata": {
        "id": "e2e6cf1f"
      },
      "source": [
        "# QUBO: Mathematical definition\n",
        "\n",
        "In the previous notebook, we went through some combinatorial optimization problems and their significance. Now we will investigate an alternative way for expressing such problems.\n",
        "\n",
        "\n",
        "## Quadratic Unconstrained Binary Optimization (QUBO)\n",
        "\n",
        "A Quadratic Unconstrained Binary Optimization (QUBO) problem is defined using an $n \\times n$ matrix $Q$ and a vector $x \\in \\{0,1\\}^n$ where,\n",
        "\n",
        "  - $Q$ is assumed to be either symmetric or in upper-triangular form. For ease of use, we will work with $Q$ in its upper-triangular form.\n",
        "  - $x$ is a vector of binary variables $0$ and $1$\n",
        "  \n",
        "Our aim is to minimize the <b>objective function</b> defined as\n",
        "\n",
        "$$f(x) = \\sum\\limits_i {Q_{i, i} x_i} + \\sum\\limits_{i < j} {Q_{i, j} x_i x_j}$$\n",
        "\n",
        "where,\n",
        "  - $Q_{i, i}$ terms are the <b>linear</b> coefficients of the function,\n",
        "  - $Q_{i, j}$ terms are the <b>quadratic</b> coefficients of the function.\n",
        "\n",
        "\n",
        "An objective function gives a mathematical description of a problem. We should minimize this objective function to find an optimal solution to our problem. In most cases, the lower the value of the objective function, the better our obtained solution is. The above objective function can be equivalently expressed as\n",
        "\n",
        "$$\\min\\limits_{x \\in \\{0, 1\\}^n} {x^T Q x}$$\n",
        "\n",
        "The QUBO formulation is not just limited to minimization problems. It can be used for maximization problems too! Inorder to find an optimal solution to a maximization problem, we have to minimize the negative of its objective function.\n",
        "\n",
        "$$\\max\\limits_{x \\in \\{0, 1\\}^n} {x^T Q x} = \\min\\limits_{x \\in \\{0, 1\\}^n} -\\ {x^T Q x}$$"
      ]
    },
    {
      "cell_type": "markdown",
      "id": "f129245a",
      "metadata": {
        "id": "f129245a"
      },
      "source": [
        "<div class=\"alert alert-block alert-danger\">\n",
        "Run the below cell everytime you restart this notebook  \n",
        "</div>"
      ]
    },
    {
      "cell_type": "code",
      "execution_count": 2,
      "id": "8573b7e9",
      "metadata": {
        "ExecuteTime": {
          "end_time": "2021-10-09T17:01:42.438541Z",
          "start_time": "2021-10-09T17:01:41.093288Z"
        },
        "id": "8573b7e9"
      },
      "outputs": [],
      "source": [
        "%run qubo_functions.py"
      ]
    },
    {
      "cell_type": "markdown",
      "id": "8a435d0c",
      "metadata": {
        "id": "8a435d0c"
      },
      "source": [
        "### Task 1\n",
        "\n",
        "Find out what assignment of $x_1$ and $x_2$ minimizes the following objective function\n",
        "\n",
        "$$f(x_1, x_2) = 5x_1 + 7x_1 x_2 - 3x_2.$$\n",
        "\n",
        "<div class=\"alert alert-block alert-info\">You can adjust the sliders to set different values for $x_1$ and $x_2$. The lower the value of the objective function, the better is the solution.</div>"
      ]
    },
    {
      "cell_type": "code",
      "execution_count": 3,
      "id": "8e1d13c3",
      "metadata": {
        "id": "8e1d13c3",
        "outputId": "fa7ef85c-c8a7-46c9-cfcb-7fd86a838034",
        "colab": {
          "base_uri": "https://localhost:8080/",
          "height": 102,
          "referenced_widgets": [
            "fd44ebd0fa3944ea9ef91462c7388628",
            "2d6e22d2ff0046739adec97582b107f8",
            "e0aee47f702d45c48e9f399bd06bdb10",
            "009eceae6f26462c88a8afaf018091dc",
            "870e94a069ff4443832cb1031830c6f9",
            "144fb0cf51fa4d81a5db9c7cd3c75c6d",
            "a69deb180438427790b4b2671f6070ae",
            "0d4bcdd8747847e2862c21e348037dab",
            "c59718b3b1a845b88a1692ab0c7c8d0c",
            "6f8f1192f8cd4430b15ff9100e419c9e"
          ]
        }
      },
      "outputs": [
        {
          "output_type": "display_data",
          "data": {
            "text/plain": [
              "interactive(children=(IntSlider(value=0, description='x1', max=1), IntSlider(value=0, description='x2', max=1)…"
            ],
            "application/vnd.jupyter.widget-view+json": {
              "version_major": 2,
              "version_minor": 0,
              "model_id": "fd44ebd0fa3944ea9ef91462c7388628"
            }
          },
          "metadata": {}
        }
      ],
      "source": [
        "# Run this cell to display the sliders\n",
        "\n",
        "def task_1(x1, x2):\n",
        "    value = 5*x1 + 7*x1*x2 - 3*x2\n",
        "    return f\"The value of the objective function is {value}.\"\n",
        "\n",
        "\n",
        "interact(task_1, x1=(0, 1), x2=(0, 1));"
      ]
    },
    {
      "cell_type": "markdown",
      "id": "b7f7a0be",
      "metadata": {
        "id": "b7f7a0be"
      },
      "source": [
        "[click for our solution](QUBO_Mathematical_Definition_Solution.ipynb#Task1)"
      ]
    },
    {
      "cell_type": "markdown",
      "id": "a0967035",
      "metadata": {
        "id": "a0967035"
      },
      "source": [
        "### Task 2\n",
        "\n",
        "Let us now consider an objective function with four binary decision variables. Find out what assignment of $x_1$, $x_2$, $x_3$ and $x_4$ minimizes the following objective function\n",
        "\n",
        "$$f(x_1, x_2, x_3, x_4) = - 5x_1 - 3x_2 - 8x_3 - 6x_4 + 4x_1 x_2 + 8x_1 x_3 + 2x_2 x_3 + 10x_3 x_4.$$"
      ]
    },
    {
      "cell_type": "code",
      "execution_count": 4,
      "id": "0cb19dc1",
      "metadata": {
        "ExecuteTime": {
          "end_time": "2021-10-09T17:01:55.095157Z",
          "start_time": "2021-10-09T17:01:55.014875Z"
        },
        "id": "0cb19dc1",
        "outputId": "53edc473-7528-4080-d597-fcd95fa4cc1a",
        "colab": {
          "base_uri": "https://localhost:8080/",
          "height": 166,
          "referenced_widgets": [
            "c186ae64f4ef439ca6af7e6f67d71163",
            "d1787730ed344be4b46f1f1a122781e9",
            "cdda9d7543354d15939cc0c5e3156e11",
            "59e9bc5527e448bea280e337833c3200",
            "55be4a5761e945c3b807ab707a354175",
            "fd1d1c29de9a482da821a54ab68c78c1",
            "68361fa087ad434e8e8bc9f36a85790e",
            "94464c9e219a4ab99beee82ed78ae574",
            "af52bed99fde458f9a561d6ec6d44fcc",
            "5be117a7039e47b38a54ddd67d7097b4",
            "af014c8bf339415584be305cda9730c8",
            "1723f724107e427e99c04bf5250a6048",
            "c55f337e4920400fba458b54864729e8",
            "732f74cd73694f6f91477d3d6aeb2cbe",
            "bd77b07bc4904fb7bbfd903c5370195b",
            "2de29b8a0a5245bb913e3456c4ead0d9"
          ]
        }
      },
      "outputs": [
        {
          "output_type": "display_data",
          "data": {
            "text/plain": [
              "interactive(children=(IntSlider(value=0, description='x1', max=1), IntSlider(value=0, description='x2', max=1)…"
            ],
            "application/vnd.jupyter.widget-view+json": {
              "version_major": 2,
              "version_minor": 0,
              "model_id": "c186ae64f4ef439ca6af7e6f67d71163"
            }
          },
          "metadata": {}
        }
      ],
      "source": [
        "# Run this cell to display the sliders\n",
        "\n",
        "def task_2(x1, x2, x3, x4):\n",
        "    value = - 5*x1 - 3*x2 - 8*x3 - 6*x4 + 4*x1*x2 + 8*x1*x3 + 2*x2*x3 + 10*x3*x4\n",
        "    return f\"The value of the objective function is {value}.\"\n",
        "\n",
        "\n",
        "interact(task_2, x1=(0, 1), x2=(0, 1), x3=(0, 1), x4=(0, 1));"
      ]
    },
    {
      "cell_type": "markdown",
      "id": "a0be482c",
      "metadata": {
        "id": "a0be482c"
      },
      "source": [
        "[click for our solution](QUBO_Mathematical_Definition_Solution.ipynb#Task2)"
      ]
    },
    {
      "cell_type": "markdown",
      "id": "617b1392",
      "metadata": {
        "id": "617b1392"
      },
      "source": [
        "In the above tasks, adjusting the sliders to 1 or 0 is analogous to making a yes or no decision. Usually a problem consists of lots of these yes or no decisions. Let's take for example the travelling salesman problem which we went through in the last section. Should the salesman visit city A before city B? Or would it be efficient to visit city C first?\n",
        "\n",
        "We can observe from Task 2 that higher the number of variables (decisions), the more tedious the problem solving process is. Task 1 is comparatively easier since there are only 2 variables and so 4 permutations. But in the task 2, there are 4 variables and as a result 16 permutations! The number of variables is directly proportional to the number of permutations. Think of an objective function with 100 variables! Imagine what would it be like to find the minimum value of that objective function by adjusting the sliders!\n",
        "\n",
        "We can partially overcome this problem by using the matrix form of QUBO. We can shift the task of finding the right values for the variables to a computer. We just have to compute a matrix $Q$ that contains all the information about the problem at hand."
      ]
    },
    {
      "cell_type": "markdown",
      "id": "82080ebf",
      "metadata": {
        "id": "82080ebf"
      },
      "source": [
        "## Matrix Form\n",
        "\n",
        "We have to model the objective function in the following matrix form\n",
        "\n",
        "$$\\min\\limits_{x \\in \\{0, 1\\}^n} {x^T Q x}.$$\n",
        "\n",
        "As mentioned earlier, for ease of use, we will work with matrix $Q$ in its upper-triangular form. The size of the matrix depends upon the number of variables. If there are $n$ variables, we have to define a $n \\times n$ matrix. Let's suppose there are 4 variables, then\n",
        "\n",
        "$$\n",
        "Q = \\begin{bmatrix}\n",
        "        Q_{11} & Q_{12} & Q_{13} & Q_{14} \\\\\n",
        "        0      & Q_{22} & Q_{23} & Q_{24} \\\\\n",
        "        0      & 0      & Q_{33} & Q_{34} \\\\\n",
        "        0      & 0      & 0      & Q_{44} \\\\\n",
        "    \\end{bmatrix}\n",
        "$$\n",
        "\n",
        "Now how do we populate this matrix?\n",
        "\n",
        "   - The linear coefficients of the objective function should be filled along the main diagonal\n",
        "   - The quadratic coefficients should be filled to the off-diagonal entries\n",
        "\n",
        "Generally speaking, the coefficient of $x_i x_j$ term of an objective function should be filled in the entry $Q_{ij}$ of the $Q$ matrix. The remaining entries should be filled with $0$.\n",
        "\n",
        "The reasoning behind can be seen by performing the product $x^T Q x$ as it can be observed that\n",
        "\n",
        "  - The coefficient of $x_1^2$ corresponds to the entry $Q_{11}$.\n",
        "  - The coefficient of $x_1 x_2$ corresponds to the entry $Q_{12}$."
      ]
    },
    {
      "cell_type": "markdown",
      "id": "09deb9b9",
      "metadata": {
        "id": "09deb9b9"
      },
      "source": [
        "### Task 3\n",
        "\n",
        "We know that the linear coefficients correspond to terms of the form $x_i$, while in the matrix representation we put them on the main diagonal that correspond to terms of the form $x_i^2$. Why is this correct?"
      ]
    },
    {
      "cell_type": "markdown",
      "id": "0cbc2435",
      "metadata": {
        "id": "0cbc2435"
      },
      "source": [
        "[click for our solution](QUBO_Mathematical_Definition_Solution.ipynb#Task3)"
      ]
    },
    {
      "cell_type": "markdown",
      "id": "07cd6f19",
      "metadata": {
        "id": "07cd6f19"
      },
      "source": [
        "### Worked Out Example\n",
        "\n",
        "Let us try to solve Task 2 using the matrix form of QUBO. The objective function is\n",
        "\n",
        "$$f(x_1, x_2, x_3, x_4) = - 5x_1 - 3x_2 - 8x_3 - 6x_4 + 4x_1 x_2 + 8x_1 x_3 + 2x_2 x_3 + 10x_3 x_4$$\n",
        "\n",
        "In the objective function,\n",
        "\n",
        "  - The linear part is $- 5x_1 - 3x_2 - 8x_3 - 6x_4$\n",
        "  - The quadratic part is $4x_1 x_2 + 8x_1 x_3 + 2x_2 x_3 + 10x_3 x_4$\n",
        "  \n",
        "The binary variables satisfy $x_i = {x_i}^2$. Therefore, the linear part can be rewritten as,\n",
        "\n",
        "$$- 5{x_1}^2 - 3{x_2}^2 - 8{x_3}^2 - 6{x_4}^2.$$"
      ]
    },
    {
      "cell_type": "markdown",
      "id": "1c1c8021",
      "metadata": {
        "id": "1c1c8021"
      },
      "source": [
        "Now, we can start populating the matrix\n",
        "\n",
        "  - The linear terms are filled along the diagonal. Using the rewritten quadratic form, the coefficient of $x_1^2$ is filled in the entry $Q_{11}$, the coefficient of $x_2^2$ is filled in the entry $Q_{22}$ and so on.\n",
        "  - The quadratic terms are filled in the off-diagonal positions. The coefficient of $x_1 x_2$ is filled in the $Q_{12}$ position, the coefficient of $x_1 x_3$ is filled in the $Q_{13}$ position and so on.\n",
        "\n",
        "$$\n",
        "Q = \\begin{bmatrix}\n",
        "        -5  &  4   &  8   &  0  \\\\\n",
        "        0   &  -3  &  2   &  0  \\\\\n",
        "        0   &  0   &  -8  &  10  \\\\\n",
        "        0   &  0   &  0   &  -6  \\\\\n",
        "    \\end{bmatrix}\n",
        "$$\n",
        "\n",
        "So, now we have to solve,\n",
        "\n",
        "$$\n",
        "\\min\\limits_{x \\in \\{0, 1\\}^4}\n",
        "\\begin{bmatrix}\n",
        "    x_1 & x_2 & x_3 & x_4\n",
        "\\end{bmatrix}    \n",
        "\\begin{bmatrix}\n",
        "  -5  &  4   &  8   &  0  \\\\\n",
        "   0   &  -3  &  2   &  0  \\\\\n",
        "   0   &  0   &  -8  &  10  \\\\\n",
        "   0   &  0   &  0   &  -6  \\\\\n",
        "\\end{bmatrix}     \n",
        "\\begin{bmatrix}\n",
        "     x_1 \\\\\n",
        "     x_2 \\\\\n",
        "     x_3 \\\\\n",
        "     x_4 \\\\\n",
        "\\end{bmatrix}.\n",
        "$$\n",
        "\n",
        "For now, we can solve this problem computationally using brute force. We will learn better ways of solving this problem later on.\n",
        "\n",
        "The function `qubo_solver()` has a parameter `Q_matrix`. We have to pass the matrix $Q$ which we have computed as an argument to this function. In order to do that, we can define the computed matrix $Q$ in terms of a NumPy array."
      ]
    },
    {
      "cell_type": "code",
      "execution_count": 5,
      "id": "fdb17343",
      "metadata": {
        "ExecuteTime": {
          "end_time": "2021-10-09T17:02:03.601790Z",
          "start_time": "2021-10-09T17:02:03.598583Z"
        },
        "id": "fdb17343"
      },
      "outputs": [],
      "source": [
        "import numpy as np\n",
        "Q = np.array([[ -5,  4,  8,  0],\n",
        "              [  0, -3,  2,  0],\n",
        "              [  0,  0, -8, 10],\n",
        "              [  0,  0,  0, -6]])"
      ]
    },
    {
      "cell_type": "markdown",
      "id": "ff71e576",
      "metadata": {
        "id": "ff71e576"
      },
      "source": [
        "Now, we can pass this matrix `Q` as an argument to the function and run it."
      ]
    },
    {
      "cell_type": "code",
      "execution_count": 6,
      "id": "44415681",
      "metadata": {
        "ExecuteTime": {
          "end_time": "2021-10-09T17:02:06.731917Z",
          "start_time": "2021-10-09T17:02:06.723685Z"
        },
        "id": "44415681",
        "outputId": "183ceb70-285e-484b-c556-a05db6c56574",
        "colab": {
          "base_uri": "https://localhost:8080/",
          "height": 38
        }
      },
      "outputs": [
        {
          "output_type": "execute_result",
          "data": {
            "text/plain": [
              "'The vector (1, 0, 0, 1) minimizes the objective function to a value of -11.'"
            ],
            "application/vnd.google.colaboratory.intrinsic+json": {
              "type": "string"
            }
          },
          "metadata": {},
          "execution_count": 6
        }
      ],
      "source": [
        "qubo_solver(Q)"
      ]
    },
    {
      "cell_type": "markdown",
      "id": "efc67161",
      "metadata": {
        "id": "efc67161"
      },
      "source": [
        "Wasn't that fun?! We were able to find the optimum vector $x$ that minimizes the objective function by just computing the $Q$ matrix. Python took care of the tedious process of finding the right values for $x_1$, $x_2$, $x_3$ and $x_4$."
      ]
    },
    {
      "cell_type": "markdown",
      "id": "223f9bb1",
      "metadata": {
        "id": "223f9bb1"
      },
      "source": [
        "### Task 4\n",
        "\n",
        "Let's repeat Task 1 this time using the matrix form. Find the vector $x$ that minimizes the following objective function\n",
        "\n",
        "$$f(x_1, x_2) = 5x_1 + 7x_1 x_2 - 3x_2$$"
      ]
    },
    {
      "cell_type": "code",
      "execution_count": null,
      "id": "8faf4c3d",
      "metadata": {
        "id": "8faf4c3d"
      },
      "outputs": [],
      "source": [
        "import numpy as np\n",
        "# Define the Q matrix\n",
        "Q1 =\n",
        "\n",
        "\n",
        "\n",
        "\n",
        "# Pass the matrix as an argument to the function\n",
        "qubo_solver(Q1)"
      ]
    },
    {
      "cell_type": "markdown",
      "id": "98ac1bea",
      "metadata": {
        "id": "98ac1bea"
      },
      "source": [
        "[click here for solution](QUBO_Mathematical_Definition_Solution.ipynb#Task4)"
      ]
    },
    {
      "cell_type": "markdown",
      "id": "437d1fd8",
      "metadata": {
        "id": "437d1fd8"
      },
      "source": [
        "### Task 5\n",
        "\n",
        "Find the vector $x$ that maximizes the following objective function\n",
        "\n",
        "$$f(x_1, x_2, x_3, x_4) = x_1 + x_2 + x_3 + x_4 - 6x_1 x_3 - 6x_1 x_4 - 6x_3 x_4 - 6x_1 x_2.$$\n",
        "\n",
        "<div class=\"alert alert-block alert-info\">\n",
        "Recall that an objective function can be maximized by minimizing the negative of the objective function<br>\n",
        "    \n",
        "$$\\max\\limits_{x \\in \\{0, 1\\}^n} {x^T Q x} = \\min\\limits_{x \\in \\{0, 1\\}^n} -\\ {x^T Q x}$$\n",
        "    \n",
        "</div>"
      ]
    },
    {
      "cell_type": "code",
      "execution_count": null,
      "id": "c2050e53",
      "metadata": {
        "id": "c2050e53"
      },
      "outputs": [],
      "source": [
        "import numpy as np\n",
        "# Define the Q matrix\n",
        "Q2 =\n",
        "\n",
        "\n",
        "\n",
        "\n",
        "# Pass the matrix as an argument to the function\n",
        "qubo_solver(Q2)"
      ]
    },
    {
      "cell_type": "markdown",
      "id": "90ae6095",
      "metadata": {
        "id": "90ae6095"
      },
      "source": [
        "[click here for solution](QUBO_Mathematical_Definition_Solution.ipynb#Task5)"
      ]
    },
    {
      "cell_type": "markdown",
      "id": "9c6156ef",
      "metadata": {
        "id": "9c6156ef"
      },
      "source": [
        "### Task 6 (Optional)\n",
        "\n",
        "In tasks 3 and 4, the function `qubo_solver()` has been used to compute the optimum vector $x$. Try to define your own version of that function! The function should take in the matrix $Q$ as an argument and return the optimum vector $x$ that minimizes the objective function.\n",
        "\n",
        "<h4> Hints: </h4>\n",
        "<ul>\n",
        "    <li><a href=\"https://docs.python.org/3/library/itertools.html#itertools.product\" target=\"_blank\"> <code>`itertools.product()`</code></a> can be used to compute all the possible values of vector $x$ </li>\n",
        "    <li> NumPy can be helpful for matrix multiplication </li>\n",
        "</ul>\n"
      ]
    },
    {
      "cell_type": "code",
      "execution_count": null,
      "id": "a99858e1",
      "metadata": {
        "id": "a99858e1"
      },
      "outputs": [],
      "source": [
        "def my_qubo_solver(Q_matrix):\n",
        "\n",
        "    # Your code here\n",
        ""
      ]
    },
    {
      "cell_type": "markdown",
      "id": "0d1c2e6d",
      "metadata": {
        "ExecuteTime": {
          "end_time": "2021-08-20T11:55:22.075600Z",
          "start_time": "2021-08-20T11:55:22.066617Z"
        },
        "id": "0d1c2e6d"
      },
      "source": [
        "[click here for solution](QUBO_Mathematical_Definition_Solution.ipynb#Task6)\n",
        "***"
      ]
    },
    {
      "cell_type": "markdown",
      "id": "d38fe917",
      "metadata": {
        "id": "d38fe917"
      },
      "source": [
        "### References\n",
        "\n",
        "  1. F. Glover, G. Kochenberger and Y. Du. \"Quantum Bridge Analytics I: A Tutorial on Formulating and Using QUBO Models,\" [arXiv:1811.11538v6](https://arxiv.org/abs/1811.11538v6), 2019.\n",
        "  2. [\"Solving Problems with D-Wave Solvers\"](https://docs.dwavesys.com/docs/latest/c_gs_3.html), D-Wave System Documentation, accessed June 2021.\n",
        "  3. [\"Quadratic unconstrained binary optimization\"](https://en.wikipedia.org/wiki/Quadratic_unconstrained_binary_optimization), Wikipedia, accessed June 2021.\n",
        "  4. [\"Loss function\"](https://en.wikipedia.org/wiki/Loss_function), Wikipedia, accessed June 2021."
      ]
    }
  ],
  "metadata": {
    "kernelspec": {
      "display_name": "Python 3 (ipykernel)",
      "language": "python",
      "name": "python3"
    },
    "language_info": {
      "codemirror_mode": {
        "name": "ipython",
        "version": 3
      },
      "file_extension": ".py",
      "mimetype": "text/x-python",
      "name": "python",
      "nbconvert_exporter": "python",
      "pygments_lexer": "ipython3",
      "version": "3.8.10"
    },
    "latex_envs": {
      "LaTeX_envs_menu_present": true,
      "autoclose": true,
      "autocomplete": true,
      "bibliofile": "biblio.bib",
      "cite_by": "apalike",
      "current_citInitial": 1,
      "eqLabelWithNumbers": true,
      "eqNumInitial": 1,
      "hotkeys": {
        "equation": "Ctrl-E",
        "itemize": "Ctrl-I"
      },
      "labels_anchors": false,
      "latex_user_defs": false,
      "report_style_numbering": false,
      "user_envs_cfg": false
    },
    "toc": {
      "base_numbering": 1,
      "nav_menu": {},
      "number_sections": false,
      "sideBar": true,
      "skip_h1_title": false,
      "title_cell": "Table of Contents",
      "title_sidebar": "Contents",
      "toc_cell": false,
      "toc_position": {},
      "toc_section_display": true,
      "toc_window_display": false
    },
    "colab": {
      "provenance": [],
      "include_colab_link": true
    },
    "widgets": {
      "application/vnd.jupyter.widget-state+json": {
        "fd44ebd0fa3944ea9ef91462c7388628": {
          "model_module": "@jupyter-widgets/controls",
          "model_name": "VBoxModel",
          "model_module_version": "1.5.0",
          "state": {
            "_dom_classes": [
              "widget-interact"
            ],
            "_model_module": "@jupyter-widgets/controls",
            "_model_module_version": "1.5.0",
            "_model_name": "VBoxModel",
            "_view_count": null,
            "_view_module": "@jupyter-widgets/controls",
            "_view_module_version": "1.5.0",
            "_view_name": "VBoxView",
            "box_style": "",
            "children": [
              "IPY_MODEL_2d6e22d2ff0046739adec97582b107f8",
              "IPY_MODEL_e0aee47f702d45c48e9f399bd06bdb10",
              "IPY_MODEL_009eceae6f26462c88a8afaf018091dc"
            ],
            "layout": "IPY_MODEL_870e94a069ff4443832cb1031830c6f9"
          }
        },
        "2d6e22d2ff0046739adec97582b107f8": {
          "model_module": "@jupyter-widgets/controls",
          "model_name": "IntSliderModel",
          "model_module_version": "1.5.0",
          "state": {
            "_dom_classes": [],
            "_model_module": "@jupyter-widgets/controls",
            "_model_module_version": "1.5.0",
            "_model_name": "IntSliderModel",
            "_view_count": null,
            "_view_module": "@jupyter-widgets/controls",
            "_view_module_version": "1.5.0",
            "_view_name": "IntSliderView",
            "continuous_update": true,
            "description": "x1",
            "description_tooltip": null,
            "disabled": false,
            "layout": "IPY_MODEL_144fb0cf51fa4d81a5db9c7cd3c75c6d",
            "max": 1,
            "min": 0,
            "orientation": "horizontal",
            "readout": true,
            "readout_format": "d",
            "step": 1,
            "style": "IPY_MODEL_a69deb180438427790b4b2671f6070ae",
            "value": 0
          }
        },
        "e0aee47f702d45c48e9f399bd06bdb10": {
          "model_module": "@jupyter-widgets/controls",
          "model_name": "IntSliderModel",
          "model_module_version": "1.5.0",
          "state": {
            "_dom_classes": [],
            "_model_module": "@jupyter-widgets/controls",
            "_model_module_version": "1.5.0",
            "_model_name": "IntSliderModel",
            "_view_count": null,
            "_view_module": "@jupyter-widgets/controls",
            "_view_module_version": "1.5.0",
            "_view_name": "IntSliderView",
            "continuous_update": true,
            "description": "x2",
            "description_tooltip": null,
            "disabled": false,
            "layout": "IPY_MODEL_0d4bcdd8747847e2862c21e348037dab",
            "max": 1,
            "min": 0,
            "orientation": "horizontal",
            "readout": true,
            "readout_format": "d",
            "step": 1,
            "style": "IPY_MODEL_c59718b3b1a845b88a1692ab0c7c8d0c",
            "value": 0
          }
        },
        "009eceae6f26462c88a8afaf018091dc": {
          "model_module": "@jupyter-widgets/output",
          "model_name": "OutputModel",
          "model_module_version": "1.0.0",
          "state": {
            "_dom_classes": [],
            "_model_module": "@jupyter-widgets/output",
            "_model_module_version": "1.0.0",
            "_model_name": "OutputModel",
            "_view_count": null,
            "_view_module": "@jupyter-widgets/output",
            "_view_module_version": "1.0.0",
            "_view_name": "OutputView",
            "layout": "IPY_MODEL_6f8f1192f8cd4430b15ff9100e419c9e",
            "msg_id": "",
            "outputs": [
              {
                "output_type": "display_data",
                "data": {
                  "text/plain": "'The value of the objective function is 0.'",
                  "application/vnd.google.colaboratory.intrinsic+json": {
                    "type": "string"
                  }
                },
                "metadata": {}
              }
            ]
          }
        },
        "870e94a069ff4443832cb1031830c6f9": {
          "model_module": "@jupyter-widgets/base",
          "model_name": "LayoutModel",
          "model_module_version": "1.2.0",
          "state": {
            "_model_module": "@jupyter-widgets/base",
            "_model_module_version": "1.2.0",
            "_model_name": "LayoutModel",
            "_view_count": null,
            "_view_module": "@jupyter-widgets/base",
            "_view_module_version": "1.2.0",
            "_view_name": "LayoutView",
            "align_content": null,
            "align_items": null,
            "align_self": null,
            "border": null,
            "bottom": null,
            "display": null,
            "flex": null,
            "flex_flow": null,
            "grid_area": null,
            "grid_auto_columns": null,
            "grid_auto_flow": null,
            "grid_auto_rows": null,
            "grid_column": null,
            "grid_gap": null,
            "grid_row": null,
            "grid_template_areas": null,
            "grid_template_columns": null,
            "grid_template_rows": null,
            "height": null,
            "justify_content": null,
            "justify_items": null,
            "left": null,
            "margin": null,
            "max_height": null,
            "max_width": null,
            "min_height": null,
            "min_width": null,
            "object_fit": null,
            "object_position": null,
            "order": null,
            "overflow": null,
            "overflow_x": null,
            "overflow_y": null,
            "padding": null,
            "right": null,
            "top": null,
            "visibility": null,
            "width": null
          }
        },
        "144fb0cf51fa4d81a5db9c7cd3c75c6d": {
          "model_module": "@jupyter-widgets/base",
          "model_name": "LayoutModel",
          "model_module_version": "1.2.0",
          "state": {
            "_model_module": "@jupyter-widgets/base",
            "_model_module_version": "1.2.0",
            "_model_name": "LayoutModel",
            "_view_count": null,
            "_view_module": "@jupyter-widgets/base",
            "_view_module_version": "1.2.0",
            "_view_name": "LayoutView",
            "align_content": null,
            "align_items": null,
            "align_self": null,
            "border": null,
            "bottom": null,
            "display": null,
            "flex": null,
            "flex_flow": null,
            "grid_area": null,
            "grid_auto_columns": null,
            "grid_auto_flow": null,
            "grid_auto_rows": null,
            "grid_column": null,
            "grid_gap": null,
            "grid_row": null,
            "grid_template_areas": null,
            "grid_template_columns": null,
            "grid_template_rows": null,
            "height": null,
            "justify_content": null,
            "justify_items": null,
            "left": null,
            "margin": null,
            "max_height": null,
            "max_width": null,
            "min_height": null,
            "min_width": null,
            "object_fit": null,
            "object_position": null,
            "order": null,
            "overflow": null,
            "overflow_x": null,
            "overflow_y": null,
            "padding": null,
            "right": null,
            "top": null,
            "visibility": null,
            "width": null
          }
        },
        "a69deb180438427790b4b2671f6070ae": {
          "model_module": "@jupyter-widgets/controls",
          "model_name": "SliderStyleModel",
          "model_module_version": "1.5.0",
          "state": {
            "_model_module": "@jupyter-widgets/controls",
            "_model_module_version": "1.5.0",
            "_model_name": "SliderStyleModel",
            "_view_count": null,
            "_view_module": "@jupyter-widgets/base",
            "_view_module_version": "1.2.0",
            "_view_name": "StyleView",
            "description_width": "",
            "handle_color": null
          }
        },
        "0d4bcdd8747847e2862c21e348037dab": {
          "model_module": "@jupyter-widgets/base",
          "model_name": "LayoutModel",
          "model_module_version": "1.2.0",
          "state": {
            "_model_module": "@jupyter-widgets/base",
            "_model_module_version": "1.2.0",
            "_model_name": "LayoutModel",
            "_view_count": null,
            "_view_module": "@jupyter-widgets/base",
            "_view_module_version": "1.2.0",
            "_view_name": "LayoutView",
            "align_content": null,
            "align_items": null,
            "align_self": null,
            "border": null,
            "bottom": null,
            "display": null,
            "flex": null,
            "flex_flow": null,
            "grid_area": null,
            "grid_auto_columns": null,
            "grid_auto_flow": null,
            "grid_auto_rows": null,
            "grid_column": null,
            "grid_gap": null,
            "grid_row": null,
            "grid_template_areas": null,
            "grid_template_columns": null,
            "grid_template_rows": null,
            "height": null,
            "justify_content": null,
            "justify_items": null,
            "left": null,
            "margin": null,
            "max_height": null,
            "max_width": null,
            "min_height": null,
            "min_width": null,
            "object_fit": null,
            "object_position": null,
            "order": null,
            "overflow": null,
            "overflow_x": null,
            "overflow_y": null,
            "padding": null,
            "right": null,
            "top": null,
            "visibility": null,
            "width": null
          }
        },
        "c59718b3b1a845b88a1692ab0c7c8d0c": {
          "model_module": "@jupyter-widgets/controls",
          "model_name": "SliderStyleModel",
          "model_module_version": "1.5.0",
          "state": {
            "_model_module": "@jupyter-widgets/controls",
            "_model_module_version": "1.5.0",
            "_model_name": "SliderStyleModel",
            "_view_count": null,
            "_view_module": "@jupyter-widgets/base",
            "_view_module_version": "1.2.0",
            "_view_name": "StyleView",
            "description_width": "",
            "handle_color": null
          }
        },
        "6f8f1192f8cd4430b15ff9100e419c9e": {
          "model_module": "@jupyter-widgets/base",
          "model_name": "LayoutModel",
          "model_module_version": "1.2.0",
          "state": {
            "_model_module": "@jupyter-widgets/base",
            "_model_module_version": "1.2.0",
            "_model_name": "LayoutModel",
            "_view_count": null,
            "_view_module": "@jupyter-widgets/base",
            "_view_module_version": "1.2.0",
            "_view_name": "LayoutView",
            "align_content": null,
            "align_items": null,
            "align_self": null,
            "border": null,
            "bottom": null,
            "display": null,
            "flex": null,
            "flex_flow": null,
            "grid_area": null,
            "grid_auto_columns": null,
            "grid_auto_flow": null,
            "grid_auto_rows": null,
            "grid_column": null,
            "grid_gap": null,
            "grid_row": null,
            "grid_template_areas": null,
            "grid_template_columns": null,
            "grid_template_rows": null,
            "height": null,
            "justify_content": null,
            "justify_items": null,
            "left": null,
            "margin": null,
            "max_height": null,
            "max_width": null,
            "min_height": null,
            "min_width": null,
            "object_fit": null,
            "object_position": null,
            "order": null,
            "overflow": null,
            "overflow_x": null,
            "overflow_y": null,
            "padding": null,
            "right": null,
            "top": null,
            "visibility": null,
            "width": null
          }
        },
        "c186ae64f4ef439ca6af7e6f67d71163": {
          "model_module": "@jupyter-widgets/controls",
          "model_name": "VBoxModel",
          "model_module_version": "1.5.0",
          "state": {
            "_dom_classes": [
              "widget-interact"
            ],
            "_model_module": "@jupyter-widgets/controls",
            "_model_module_version": "1.5.0",
            "_model_name": "VBoxModel",
            "_view_count": null,
            "_view_module": "@jupyter-widgets/controls",
            "_view_module_version": "1.5.0",
            "_view_name": "VBoxView",
            "box_style": "",
            "children": [
              "IPY_MODEL_d1787730ed344be4b46f1f1a122781e9",
              "IPY_MODEL_cdda9d7543354d15939cc0c5e3156e11",
              "IPY_MODEL_59e9bc5527e448bea280e337833c3200",
              "IPY_MODEL_55be4a5761e945c3b807ab707a354175",
              "IPY_MODEL_fd1d1c29de9a482da821a54ab68c78c1"
            ],
            "layout": "IPY_MODEL_68361fa087ad434e8e8bc9f36a85790e"
          }
        },
        "d1787730ed344be4b46f1f1a122781e9": {
          "model_module": "@jupyter-widgets/controls",
          "model_name": "IntSliderModel",
          "model_module_version": "1.5.0",
          "state": {
            "_dom_classes": [],
            "_model_module": "@jupyter-widgets/controls",
            "_model_module_version": "1.5.0",
            "_model_name": "IntSliderModel",
            "_view_count": null,
            "_view_module": "@jupyter-widgets/controls",
            "_view_module_version": "1.5.0",
            "_view_name": "IntSliderView",
            "continuous_update": true,
            "description": "x1",
            "description_tooltip": null,
            "disabled": false,
            "layout": "IPY_MODEL_94464c9e219a4ab99beee82ed78ae574",
            "max": 1,
            "min": 0,
            "orientation": "horizontal",
            "readout": true,
            "readout_format": "d",
            "step": 1,
            "style": "IPY_MODEL_af52bed99fde458f9a561d6ec6d44fcc",
            "value": 0
          }
        },
        "cdda9d7543354d15939cc0c5e3156e11": {
          "model_module": "@jupyter-widgets/controls",
          "model_name": "IntSliderModel",
          "model_module_version": "1.5.0",
          "state": {
            "_dom_classes": [],
            "_model_module": "@jupyter-widgets/controls",
            "_model_module_version": "1.5.0",
            "_model_name": "IntSliderModel",
            "_view_count": null,
            "_view_module": "@jupyter-widgets/controls",
            "_view_module_version": "1.5.0",
            "_view_name": "IntSliderView",
            "continuous_update": true,
            "description": "x2",
            "description_tooltip": null,
            "disabled": false,
            "layout": "IPY_MODEL_5be117a7039e47b38a54ddd67d7097b4",
            "max": 1,
            "min": 0,
            "orientation": "horizontal",
            "readout": true,
            "readout_format": "d",
            "step": 1,
            "style": "IPY_MODEL_af014c8bf339415584be305cda9730c8",
            "value": 0
          }
        },
        "59e9bc5527e448bea280e337833c3200": {
          "model_module": "@jupyter-widgets/controls",
          "model_name": "IntSliderModel",
          "model_module_version": "1.5.0",
          "state": {
            "_dom_classes": [],
            "_model_module": "@jupyter-widgets/controls",
            "_model_module_version": "1.5.0",
            "_model_name": "IntSliderModel",
            "_view_count": null,
            "_view_module": "@jupyter-widgets/controls",
            "_view_module_version": "1.5.0",
            "_view_name": "IntSliderView",
            "continuous_update": true,
            "description": "x3",
            "description_tooltip": null,
            "disabled": false,
            "layout": "IPY_MODEL_1723f724107e427e99c04bf5250a6048",
            "max": 1,
            "min": 0,
            "orientation": "horizontal",
            "readout": true,
            "readout_format": "d",
            "step": 1,
            "style": "IPY_MODEL_c55f337e4920400fba458b54864729e8",
            "value": 0
          }
        },
        "55be4a5761e945c3b807ab707a354175": {
          "model_module": "@jupyter-widgets/controls",
          "model_name": "IntSliderModel",
          "model_module_version": "1.5.0",
          "state": {
            "_dom_classes": [],
            "_model_module": "@jupyter-widgets/controls",
            "_model_module_version": "1.5.0",
            "_model_name": "IntSliderModel",
            "_view_count": null,
            "_view_module": "@jupyter-widgets/controls",
            "_view_module_version": "1.5.0",
            "_view_name": "IntSliderView",
            "continuous_update": true,
            "description": "x4",
            "description_tooltip": null,
            "disabled": false,
            "layout": "IPY_MODEL_732f74cd73694f6f91477d3d6aeb2cbe",
            "max": 1,
            "min": 0,
            "orientation": "horizontal",
            "readout": true,
            "readout_format": "d",
            "step": 1,
            "style": "IPY_MODEL_bd77b07bc4904fb7bbfd903c5370195b",
            "value": 0
          }
        },
        "fd1d1c29de9a482da821a54ab68c78c1": {
          "model_module": "@jupyter-widgets/output",
          "model_name": "OutputModel",
          "model_module_version": "1.0.0",
          "state": {
            "_dom_classes": [],
            "_model_module": "@jupyter-widgets/output",
            "_model_module_version": "1.0.0",
            "_model_name": "OutputModel",
            "_view_count": null,
            "_view_module": "@jupyter-widgets/output",
            "_view_module_version": "1.0.0",
            "_view_name": "OutputView",
            "layout": "IPY_MODEL_2de29b8a0a5245bb913e3456c4ead0d9",
            "msg_id": "",
            "outputs": [
              {
                "output_type": "display_data",
                "data": {
                  "text/plain": "'The value of the objective function is 0.'",
                  "application/vnd.google.colaboratory.intrinsic+json": {
                    "type": "string"
                  }
                },
                "metadata": {}
              }
            ]
          }
        },
        "68361fa087ad434e8e8bc9f36a85790e": {
          "model_module": "@jupyter-widgets/base",
          "model_name": "LayoutModel",
          "model_module_version": "1.2.0",
          "state": {
            "_model_module": "@jupyter-widgets/base",
            "_model_module_version": "1.2.0",
            "_model_name": "LayoutModel",
            "_view_count": null,
            "_view_module": "@jupyter-widgets/base",
            "_view_module_version": "1.2.0",
            "_view_name": "LayoutView",
            "align_content": null,
            "align_items": null,
            "align_self": null,
            "border": null,
            "bottom": null,
            "display": null,
            "flex": null,
            "flex_flow": null,
            "grid_area": null,
            "grid_auto_columns": null,
            "grid_auto_flow": null,
            "grid_auto_rows": null,
            "grid_column": null,
            "grid_gap": null,
            "grid_row": null,
            "grid_template_areas": null,
            "grid_template_columns": null,
            "grid_template_rows": null,
            "height": null,
            "justify_content": null,
            "justify_items": null,
            "left": null,
            "margin": null,
            "max_height": null,
            "max_width": null,
            "min_height": null,
            "min_width": null,
            "object_fit": null,
            "object_position": null,
            "order": null,
            "overflow": null,
            "overflow_x": null,
            "overflow_y": null,
            "padding": null,
            "right": null,
            "top": null,
            "visibility": null,
            "width": null
          }
        },
        "94464c9e219a4ab99beee82ed78ae574": {
          "model_module": "@jupyter-widgets/base",
          "model_name": "LayoutModel",
          "model_module_version": "1.2.0",
          "state": {
            "_model_module": "@jupyter-widgets/base",
            "_model_module_version": "1.2.0",
            "_model_name": "LayoutModel",
            "_view_count": null,
            "_view_module": "@jupyter-widgets/base",
            "_view_module_version": "1.2.0",
            "_view_name": "LayoutView",
            "align_content": null,
            "align_items": null,
            "align_self": null,
            "border": null,
            "bottom": null,
            "display": null,
            "flex": null,
            "flex_flow": null,
            "grid_area": null,
            "grid_auto_columns": null,
            "grid_auto_flow": null,
            "grid_auto_rows": null,
            "grid_column": null,
            "grid_gap": null,
            "grid_row": null,
            "grid_template_areas": null,
            "grid_template_columns": null,
            "grid_template_rows": null,
            "height": null,
            "justify_content": null,
            "justify_items": null,
            "left": null,
            "margin": null,
            "max_height": null,
            "max_width": null,
            "min_height": null,
            "min_width": null,
            "object_fit": null,
            "object_position": null,
            "order": null,
            "overflow": null,
            "overflow_x": null,
            "overflow_y": null,
            "padding": null,
            "right": null,
            "top": null,
            "visibility": null,
            "width": null
          }
        },
        "af52bed99fde458f9a561d6ec6d44fcc": {
          "model_module": "@jupyter-widgets/controls",
          "model_name": "SliderStyleModel",
          "model_module_version": "1.5.0",
          "state": {
            "_model_module": "@jupyter-widgets/controls",
            "_model_module_version": "1.5.0",
            "_model_name": "SliderStyleModel",
            "_view_count": null,
            "_view_module": "@jupyter-widgets/base",
            "_view_module_version": "1.2.0",
            "_view_name": "StyleView",
            "description_width": "",
            "handle_color": null
          }
        },
        "5be117a7039e47b38a54ddd67d7097b4": {
          "model_module": "@jupyter-widgets/base",
          "model_name": "LayoutModel",
          "model_module_version": "1.2.0",
          "state": {
            "_model_module": "@jupyter-widgets/base",
            "_model_module_version": "1.2.0",
            "_model_name": "LayoutModel",
            "_view_count": null,
            "_view_module": "@jupyter-widgets/base",
            "_view_module_version": "1.2.0",
            "_view_name": "LayoutView",
            "align_content": null,
            "align_items": null,
            "align_self": null,
            "border": null,
            "bottom": null,
            "display": null,
            "flex": null,
            "flex_flow": null,
            "grid_area": null,
            "grid_auto_columns": null,
            "grid_auto_flow": null,
            "grid_auto_rows": null,
            "grid_column": null,
            "grid_gap": null,
            "grid_row": null,
            "grid_template_areas": null,
            "grid_template_columns": null,
            "grid_template_rows": null,
            "height": null,
            "justify_content": null,
            "justify_items": null,
            "left": null,
            "margin": null,
            "max_height": null,
            "max_width": null,
            "min_height": null,
            "min_width": null,
            "object_fit": null,
            "object_position": null,
            "order": null,
            "overflow": null,
            "overflow_x": null,
            "overflow_y": null,
            "padding": null,
            "right": null,
            "top": null,
            "visibility": null,
            "width": null
          }
        },
        "af014c8bf339415584be305cda9730c8": {
          "model_module": "@jupyter-widgets/controls",
          "model_name": "SliderStyleModel",
          "model_module_version": "1.5.0",
          "state": {
            "_model_module": "@jupyter-widgets/controls",
            "_model_module_version": "1.5.0",
            "_model_name": "SliderStyleModel",
            "_view_count": null,
            "_view_module": "@jupyter-widgets/base",
            "_view_module_version": "1.2.0",
            "_view_name": "StyleView",
            "description_width": "",
            "handle_color": null
          }
        },
        "1723f724107e427e99c04bf5250a6048": {
          "model_module": "@jupyter-widgets/base",
          "model_name": "LayoutModel",
          "model_module_version": "1.2.0",
          "state": {
            "_model_module": "@jupyter-widgets/base",
            "_model_module_version": "1.2.0",
            "_model_name": "LayoutModel",
            "_view_count": null,
            "_view_module": "@jupyter-widgets/base",
            "_view_module_version": "1.2.0",
            "_view_name": "LayoutView",
            "align_content": null,
            "align_items": null,
            "align_self": null,
            "border": null,
            "bottom": null,
            "display": null,
            "flex": null,
            "flex_flow": null,
            "grid_area": null,
            "grid_auto_columns": null,
            "grid_auto_flow": null,
            "grid_auto_rows": null,
            "grid_column": null,
            "grid_gap": null,
            "grid_row": null,
            "grid_template_areas": null,
            "grid_template_columns": null,
            "grid_template_rows": null,
            "height": null,
            "justify_content": null,
            "justify_items": null,
            "left": null,
            "margin": null,
            "max_height": null,
            "max_width": null,
            "min_height": null,
            "min_width": null,
            "object_fit": null,
            "object_position": null,
            "order": null,
            "overflow": null,
            "overflow_x": null,
            "overflow_y": null,
            "padding": null,
            "right": null,
            "top": null,
            "visibility": null,
            "width": null
          }
        },
        "c55f337e4920400fba458b54864729e8": {
          "model_module": "@jupyter-widgets/controls",
          "model_name": "SliderStyleModel",
          "model_module_version": "1.5.0",
          "state": {
            "_model_module": "@jupyter-widgets/controls",
            "_model_module_version": "1.5.0",
            "_model_name": "SliderStyleModel",
            "_view_count": null,
            "_view_module": "@jupyter-widgets/base",
            "_view_module_version": "1.2.0",
            "_view_name": "StyleView",
            "description_width": "",
            "handle_color": null
          }
        },
        "732f74cd73694f6f91477d3d6aeb2cbe": {
          "model_module": "@jupyter-widgets/base",
          "model_name": "LayoutModel",
          "model_module_version": "1.2.0",
          "state": {
            "_model_module": "@jupyter-widgets/base",
            "_model_module_version": "1.2.0",
            "_model_name": "LayoutModel",
            "_view_count": null,
            "_view_module": "@jupyter-widgets/base",
            "_view_module_version": "1.2.0",
            "_view_name": "LayoutView",
            "align_content": null,
            "align_items": null,
            "align_self": null,
            "border": null,
            "bottom": null,
            "display": null,
            "flex": null,
            "flex_flow": null,
            "grid_area": null,
            "grid_auto_columns": null,
            "grid_auto_flow": null,
            "grid_auto_rows": null,
            "grid_column": null,
            "grid_gap": null,
            "grid_row": null,
            "grid_template_areas": null,
            "grid_template_columns": null,
            "grid_template_rows": null,
            "height": null,
            "justify_content": null,
            "justify_items": null,
            "left": null,
            "margin": null,
            "max_height": null,
            "max_width": null,
            "min_height": null,
            "min_width": null,
            "object_fit": null,
            "object_position": null,
            "order": null,
            "overflow": null,
            "overflow_x": null,
            "overflow_y": null,
            "padding": null,
            "right": null,
            "top": null,
            "visibility": null,
            "width": null
          }
        },
        "bd77b07bc4904fb7bbfd903c5370195b": {
          "model_module": "@jupyter-widgets/controls",
          "model_name": "SliderStyleModel",
          "model_module_version": "1.5.0",
          "state": {
            "_model_module": "@jupyter-widgets/controls",
            "_model_module_version": "1.5.0",
            "_model_name": "SliderStyleModel",
            "_view_count": null,
            "_view_module": "@jupyter-widgets/base",
            "_view_module_version": "1.2.0",
            "_view_name": "StyleView",
            "description_width": "",
            "handle_color": null
          }
        },
        "2de29b8a0a5245bb913e3456c4ead0d9": {
          "model_module": "@jupyter-widgets/base",
          "model_name": "LayoutModel",
          "model_module_version": "1.2.0",
          "state": {
            "_model_module": "@jupyter-widgets/base",
            "_model_module_version": "1.2.0",
            "_model_name": "LayoutModel",
            "_view_count": null,
            "_view_module": "@jupyter-widgets/base",
            "_view_module_version": "1.2.0",
            "_view_name": "LayoutView",
            "align_content": null,
            "align_items": null,
            "align_self": null,
            "border": null,
            "bottom": null,
            "display": null,
            "flex": null,
            "flex_flow": null,
            "grid_area": null,
            "grid_auto_columns": null,
            "grid_auto_flow": null,
            "grid_auto_rows": null,
            "grid_column": null,
            "grid_gap": null,
            "grid_row": null,
            "grid_template_areas": null,
            "grid_template_columns": null,
            "grid_template_rows": null,
            "height": null,
            "justify_content": null,
            "justify_items": null,
            "left": null,
            "margin": null,
            "max_height": null,
            "max_width": null,
            "min_height": null,
            "min_width": null,
            "object_fit": null,
            "object_position": null,
            "order": null,
            "overflow": null,
            "overflow_x": null,
            "overflow_y": null,
            "padding": null,
            "right": null,
            "top": null,
            "visibility": null,
            "width": null
          }
        }
      }
    }
  },
  "nbformat": 4,
  "nbformat_minor": 5
}