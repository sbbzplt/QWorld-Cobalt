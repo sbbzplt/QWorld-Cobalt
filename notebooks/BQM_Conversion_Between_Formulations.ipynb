{
  "cells": [
    {
      "cell_type": "markdown",
      "metadata": {
        "id": "view-in-github",
        "colab_type": "text"
      },
      "source": [
        "<a href=\"https://colab.research.google.com/github/sbbzplt/QWorld-Cobalt/blob/master/notebooks/BQM_Conversion_Between_Formulations.ipynb\" target=\"_parent\"><img src=\"https://colab.research.google.com/assets/colab-badge.svg\" alt=\"Open In Colab\"/></a>"
      ]
    },
    {
      "cell_type": "markdown",
      "id": "eeeab38b",
      "metadata": {
        "id": "eeeab38b"
      },
      "source": [
        "<table width = \"100%\">\n",
        "  <tr style=\"background-color:white;\">\n",
        "    <!-- QWorld Logo -->\n",
        "    <td style=\"text-align:left;width:200px;\">\n",
        "        <a href=\"https://qworld.net/\" target=\"_blank\"><img src=\"https://github.com/sbbzplt/QWorld-Cobalt/blob/master/images/QWorld.png?raw=1\"> </a></td>\n",
        "    <td style=\"text-align:right;vertical-align:bottom;font-size:16px;\">\n",
        "        Prepared by AkashNarayanan B and Özlem Salehi</td>    \n",
        "</table>\n",
        "<hr>"
      ]
    },
    {
      "cell_type": "code",
      "source": [
        "!pip install dwave-ocean-sdk"
      ],
      "metadata": {
        "id": "dP03o414mBp4"
      },
      "id": "dP03o414mBp4",
      "execution_count": null,
      "outputs": []
    },
    {
      "cell_type": "markdown",
      "id": "5319250b",
      "metadata": {
        "id": "5319250b"
      },
      "source": [
        "# BQM: Conversion Between Formulations"
      ]
    },
    {
      "cell_type": "markdown",
      "id": "3abf5cc8",
      "metadata": {
        "id": "3abf5cc8"
      },
      "source": [
        "In this notebook, we will look at the different ways of converting a problem between QUBO, Ising and BQM formulations.\n",
        "\n",
        "\n",
        "## Constructing a BQM from a QUBO Model\n",
        "\n",
        "### Through providing $Q$ matrix\n",
        "\n",
        "We have already learned how to define a QUBO matrix as a NumPy matrix. It is possible to construct a Binary Quadratic Model from a NumPy matrix using the `BQM` constructor.\n",
        "\n",
        "Let's consider the following objective function\n",
        "\n",
        "$$f(x_1, x_2, x_3, x_4) = - 5x_1 - 3x_2 - 8x_3 - 6x_4 + 4x_1 x_2 + 8x_1 x_3 + 2x_2 x_3 + 10x_3 x_4$$\n",
        "\n",
        "The QUBO matrix Q for the objective function is\n",
        "\n",
        "$$\n",
        "Q = \\begin{bmatrix}\n",
        "        -5  &  4   &  8   &  0  \\\\\n",
        "        0   &  -3  &  2   &  0  \\\\\n",
        "        0   &  0   &  -8  &  10  \\\\\n",
        "        0   &  0   &  0   &  -6  \\\\\n",
        "    \\end{bmatrix}\n",
        "$$\n",
        "\n",
        "The NumPy matrix `Q` is"
      ]
    },
    {
      "cell_type": "code",
      "execution_count": null,
      "id": "ea69be38",
      "metadata": {
        "ExecuteTime": {
          "end_time": "2021-09-23T11:52:12.026704Z",
          "start_time": "2021-09-23T11:52:11.939928Z"
        },
        "id": "ea69be38"
      },
      "outputs": [],
      "source": [
        "import numpy as np\n",
        "\n",
        "Q = np.array([[ -5,  4,  8,  0],\n",
        "              [  0, -3,  2,  0],\n",
        "              [  0,  0, -8, 10],\n",
        "              [  0,  0,  0, -6]])"
      ]
    },
    {
      "cell_type": "markdown",
      "id": "7bf35d02",
      "metadata": {
        "id": "7bf35d02"
      },
      "source": [
        "\n",
        "#### BQM Constructor - Parameters\n",
        "\n",
        "- `Q` - The QUBO as a NumPy matrix\n",
        "- `BINARY` - Variable type\n",
        "\n",
        "Now let's create a BQM from the above NumPy matrix. We have to pass `Q` as an argument to the `BQM` constructor."
      ]
    },
    {
      "cell_type": "code",
      "execution_count": null,
      "id": "f19a8e07",
      "metadata": {
        "ExecuteTime": {
          "end_time": "2021-09-23T11:52:12.089763Z",
          "start_time": "2021-09-23T11:52:12.033500Z"
        },
        "id": "f19a8e07",
        "outputId": "dfc144e9-84bc-4cf7-89f9-022a4d1eefa7"
      },
      "outputs": [
        {
          "name": "stdout",
          "output_type": "stream",
          "text": [
            "BinaryQuadraticModel({0: -5.0, 1: -3.0, 2: -8.0, 3: -6.0}, {(1, 0): 4.0, (2, 0): 8.0, (2, 1): 2.0, (3, 2): 10.0}, 0.0, 'BINARY')\n"
          ]
        }
      ],
      "source": [
        "from dimod import BQM\n",
        "\n",
        "bqm_np = BQM(Q, \"BINARY\")\n",
        "\n",
        "print(bqm_np)"
      ]
    },
    {
      "cell_type": "markdown",
      "id": "0fdd292a",
      "metadata": {
        "id": "0fdd292a"
      },
      "source": [
        "So far we have used strings as keys to represent the variables in linear and quadratic arguments of a BQM class. It is also valid to use integers as keys. In the above output, the integers represent the position of the values in the matrix.\n",
        "\n",
        "For example, the first term of the linear part `0: -5.0` represents the value `-5.0` at the position `(0, 0)` in the matrix. The first term of the quadratic part `(0, 1): 4` represents the value `4` at the position `(0, 1)` in the matrix.\n",
        "\n",
        "<div class=\"alert alert-block alert-info\">\n",
        "The keys for the linear and quadratic arguments of the BQM class can either be strings or integers.\n",
        "</div>"
      ]
    },
    {
      "cell_type": "markdown",
      "id": "d2d3e1ca",
      "metadata": {
        "id": "d2d3e1ca"
      },
      "source": [
        "### Task 1\n",
        "\n",
        "Create a QUBO in NumPy matrix form for the following objective function and create a BQM from it.\n",
        "\n",
        "$$f(x_1, x_2, x_3, x_4) = 3x_1 - 7x_2 + 11x_3 - x_4 + 9x_1 x_2 + x_1 x_3 + 2x_2 x_3 + 8x_3 x_4$$"
      ]
    },
    {
      "cell_type": "code",
      "execution_count": null,
      "id": "8dcd559d",
      "metadata": {
        "id": "8dcd559d"
      },
      "outputs": [],
      "source": [
        "# Your code here\n",
        "\n"
      ]
    },
    {
      "cell_type": "markdown",
      "id": "66c446f3",
      "metadata": {
        "id": "66c446f3"
      },
      "source": [
        "[click here for solution](BQM_Conversion_Between_Formulations_Solutions.ipynb#Task1)"
      ]
    },
    {
      "cell_type": "markdown",
      "id": "b5181f69",
      "metadata": {
        "id": "b5181f69"
      },
      "source": [
        "### Through Dictionary Representation\n",
        "\n",
        "We can also represent a QUBO problem as a dictionary. What is the need for it you may ask? Dictionary representation can be very helpful for problems with a large number of variables.\n",
        "\n",
        "In the dictionary representation, only the non-zero terms of a QUBO matrix are considered. This saves up space and improves the efficiency of the problem solving process.\n",
        "\n",
        "Let's consider a $3 \\times 3$ matrix\n",
        "\n",
        "$$\n",
        "Q = \\begin{bmatrix}\n",
        "        Q_{11} & Q_{12} & Q_{13}  \\\\\n",
        "        0      & Q_{22} & Q_{23}  \\\\\n",
        "        0      & 0      & Q_{33}  \\\\\n",
        "    \\end{bmatrix}\n",
        "$$"
      ]
    },
    {
      "cell_type": "markdown",
      "id": "d66674e0",
      "metadata": {
        "id": "d66674e0"
      },
      "source": [
        "In the dictionary representation, the keys should be the binary variables and their values should be the coefficients associated with these binary variables. The variables can be represented either as a tuple of variable names or as a tuple of numbers. The key for the term $Q_{11}$ in the above matrix can be represented as\n",
        "\n",
        "- `('x1', 'x1')` - Tuple of variable names\n",
        "- `(0, 0)` - Tuple of numbers that indicate the position of the term in the matrix"
      ]
    },
    {
      "cell_type": "markdown",
      "id": "82602e0d",
      "metadata": {
        "id": "82602e0d"
      },
      "source": [
        "<div class=\"alert alert-block alert-info\">\n",
        "\n",
        "The advantage of dictionary representation becomes apparent when we consider a large QUBO matrix.\n",
        "</div>"
      ]
    },
    {
      "cell_type": "markdown",
      "id": "d12fc67f",
      "metadata": {
        "id": "d12fc67f"
      },
      "source": [
        "$$\n",
        "Q_L = \\begin{bmatrix}\n",
        "        \\bf{3} & 0 & 0 & 0 & 0 & \\bf{4} & 0 & 0 \\\\\n",
        "        0 & 0 & 0 & 0 & 0 & 0 & 0 & 0 \\\\\n",
        "        0 & 0 & 0 & 0 & 0 & 0 & \\bf{9} & 0 \\\\\n",
        "        0 & 0 & 0 & \\bf{1} & 0 & 0 & 0 & 0 \\\\\n",
        "        0 & 0 & 0 & 0 & \\bf{4} & 0 & 0 & 0 \\\\\n",
        "        0 & 0 & 0 & 0 & 0 & 0 & 0 & 0 \\\\\n",
        "        0 & 0 & 0 & 0 & 0 & 0 & 0 & 0 \\\\\n",
        "        0 & 0 & 0 & 0 & 0 & 0 & 0 & \\bf{8} \\\\\n",
        "      \\end{bmatrix}\n",
        "$$\n",
        "\n",
        "The above matrix $Q_L$ can be represented as"
      ]
    },
    {
      "cell_type": "code",
      "execution_count": null,
      "id": "117efc32",
      "metadata": {
        "ExecuteTime": {
          "end_time": "2021-09-23T11:52:12.139953Z",
          "start_time": "2021-09-23T11:52:12.096820Z"
        },
        "id": "117efc32"
      },
      "outputs": [],
      "source": [
        "Q_Large = {('x1', 'x1'): 3, ('x4', 'x4'): 1, ('x5', 'x5'): 4,\n",
        "           ('x8', 'x8'): 8, ('x1', 'x6'): 4, ('x3', 'x7'): 9}"
      ]
    },
    {
      "cell_type": "markdown",
      "id": "3f259309",
      "metadata": {
        "id": "3f259309"
      },
      "source": [
        "A BQM can be constructed from a QUBO problem in dictionary form using the `from_qubo` method of the `BinaryQuadraticModel` class.\n",
        "\n",
        "#### `from_qubo` method - Parameters\n",
        "\n",
        "- `Q` - The QUBO in dictionary form\n",
        "- `offset` (optional) - Constant offset\n",
        "\n",
        "Now let's a create a BQM by passing the dictionary `Q_Large` as an argument to the `from_qubo` method."
      ]
    },
    {
      "cell_type": "code",
      "execution_count": null,
      "id": "454b010c",
      "metadata": {
        "ExecuteTime": {
          "end_time": "2021-09-23T11:52:12.190559Z",
          "start_time": "2021-09-23T11:52:12.144452Z"
        },
        "id": "454b010c",
        "outputId": "c661e886-e1d5-4a78-e331-c96ae6b17197"
      },
      "outputs": [
        {
          "name": "stdout",
          "output_type": "stream",
          "text": [
            "BinaryQuadraticModel({'x1': 3.0, 'x4': 1.0, 'x5': 4.0, 'x8': 8.0, 'x6': 0.0, 'x3': 0.0, 'x7': 0.0}, {('x6', 'x1'): 4.0, ('x7', 'x3'): 9.0}, 0.0, 'BINARY')\n"
          ]
        }
      ],
      "source": [
        "bqm_qubo = BQM.from_qubo(Q_Large)\n",
        "\n",
        "print(bqm_qubo)"
      ]
    },
    {
      "cell_type": "markdown",
      "id": "766e38d8",
      "metadata": {
        "id": "766e38d8"
      },
      "source": [
        "### Task 2\n",
        "\n",
        "Create a QUBO dictionary form for the following objective function and create a BQM from it.\n",
        "\n",
        "$$f(x_1, x_2, x_3, x_4) = 3x_1 - 7x_2 + 11x_3 - x_4 + 9x_1 x_2 + x_1 x_3 + 2x_2 x_3 + 8x_3 x_4$$"
      ]
    },
    {
      "cell_type": "code",
      "execution_count": null,
      "id": "1ff6d194",
      "metadata": {
        "id": "1ff6d194"
      },
      "outputs": [],
      "source": [
        "#Your code here\n",
        "\n",
        "\n"
      ]
    },
    {
      "cell_type": "markdown",
      "id": "5fb5bd47",
      "metadata": {
        "id": "5fb5bd47"
      },
      "source": [
        "[click here for solution](BQM_Conversion_between_Formulations_Solutions.ipynb#Task2)"
      ]
    },
    {
      "cell_type": "markdown",
      "id": "04828356",
      "metadata": {
        "id": "04828356"
      },
      "source": [
        "## Constructing a QUBO Model from a BQM\n",
        "\n",
        "### Getting $Q$ matrix\n",
        "\n",
        "It is also possible to construct a QUBO NumPy matrix from a Binary Quadratic Model.\n",
        "\n",
        "#### `to_numpy_matrix` Method - Parameters\n",
        "\n",
        "- `variable_order` - Variable order as a list should be passed as an argument if there are variable names(strings) as keys in the BQM.\n",
        "\n",
        "Let us consider the following BQM where the keys for the `linear` and `quadratic` arguments are variable names as strings."
      ]
    },
    {
      "cell_type": "code",
      "execution_count": null,
      "id": "e0110c43",
      "metadata": {
        "ExecuteTime": {
          "end_time": "2021-09-23T11:52:12.237686Z",
          "start_time": "2021-09-23T11:52:12.197544Z"
        },
        "id": "e0110c43"
      },
      "outputs": [],
      "source": [
        "bqm_str = BQM(\n",
        "    {\"x1\": -5.0, \"x2\": -3.0, \"x3\": -8.0, \"x4\": -6.0},\n",
        "    {(\"x1\", \"x2\"): 4, (\"x1\", \"x3\"): 8, (\"x2\", \"x3\"): 2, (\"x3\", \"x4\"): 10},\n",
        "    0,\n",
        "    \"BINARY\",\n",
        ")"
      ]
    },
    {
      "cell_type": "markdown",
      "id": "a3130c8c",
      "metadata": {
        "id": "a3130c8c"
      },
      "source": [
        "In this case, the variable order as a list should be passed as an argument to the `to_numpy_matrix` method. Without that there would be an error."
      ]
    },
    {
      "cell_type": "code",
      "execution_count": null,
      "id": "2b345192",
      "metadata": {
        "ExecuteTime": {
          "end_time": "2021-09-23T11:52:12.289523Z",
          "start_time": "2021-09-23T11:52:12.240164Z"
        },
        "id": "2b345192",
        "outputId": "9e743516-1fa4-426b-9872-e798253ea052"
      },
      "outputs": [
        {
          "name": "stdout",
          "output_type": "stream",
          "text": [
            "[[-5.  4.  8.  0.]\n",
            " [ 0. -3.  2.  0.]\n",
            " [ 0.  0. -8. 10.]\n",
            " [ 0.  0.  0. -6.]]\n"
          ]
        },
        {
          "name": "stderr",
          "output_type": "stream",
          "text": [
            "C:\\ProgramData\\Anaconda3\\lib\\site-packages\\ipykernel_launcher.py:1: DeprecationWarning: bqm.to_numpy_matrix() is deprecated since dimod 0.10.0 and will be removed in 0.12.0\n",
            "  \"\"\"Entry point for launching an IPython kernel.\n"
          ]
        }
      ],
      "source": [
        "np_mat_str = bqm_str.to_numpy_matrix([\"x1\", \"x2\", \"x3\", \"x4\"])\n",
        "\n",
        "print(np_mat_str)"
      ]
    },
    {
      "cell_type": "markdown",
      "id": "5d3cc490",
      "metadata": {
        "id": "5d3cc490"
      },
      "source": [
        "If the keys of the `linear` and `quadratic` arguments are numbers, the `variable_order` is optional."
      ]
    },
    {
      "cell_type": "code",
      "execution_count": null,
      "id": "c16759fc",
      "metadata": {
        "ExecuteTime": {
          "end_time": "2021-09-23T11:52:12.342900Z",
          "start_time": "2021-09-23T11:52:12.292212Z"
        },
        "id": "c16759fc",
        "outputId": "2b5d281e-6190-434e-f391-8fbfba759c3e"
      },
      "outputs": [
        {
          "name": "stdout",
          "output_type": "stream",
          "text": [
            "[[-5.  4.  8.  0.]\n",
            " [ 0. -3.  2.  0.]\n",
            " [ 0.  0. -8. 10.]\n",
            " [ 0.  0.  0. -6.]]\n"
          ]
        },
        {
          "name": "stderr",
          "output_type": "stream",
          "text": [
            "C:\\ProgramData\\Anaconda3\\lib\\site-packages\\ipykernel_launcher.py:8: DeprecationWarning: bqm.to_numpy_matrix() is deprecated since dimod 0.10.0 and will be removed in 0.12.0\n",
            "  \n"
          ]
        }
      ],
      "source": [
        "bqm_num = BQM(\n",
        "    {0: -5.0, 1: -3.0, 2: -8.0, 3: -6.0},\n",
        "    {(0, 1): 4, (0, 2): 8, (1, 2): 2, (2, 3): 10},\n",
        "    0.0,\n",
        "    \"BINARY\",\n",
        ")\n",
        "\n",
        "np_mat_num = bqm_num.to_numpy_matrix()\n",
        "\n",
        "print(np_mat_num)"
      ]
    },
    {
      "cell_type": "markdown",
      "id": "09a2b14b",
      "metadata": {
        "id": "09a2b14b"
      },
      "source": [
        "### Task 3\n",
        "\n",
        "Obtain the $Q$ matrix for the bqm formulation you created in Task 2."
      ]
    },
    {
      "cell_type": "code",
      "execution_count": null,
      "id": "c90daa15",
      "metadata": {
        "id": "c90daa15"
      },
      "outputs": [],
      "source": [
        "# Your code here\n",
        "\n"
      ]
    },
    {
      "cell_type": "markdown",
      "id": "bd08005f",
      "metadata": {
        "id": "bd08005f"
      },
      "source": [
        "[click here for solution](BQM_Conversion_between_Formulations_Solutions.ipynb#Task3)"
      ]
    },
    {
      "cell_type": "markdown",
      "id": "43e1a905",
      "metadata": {
        "id": "43e1a905"
      },
      "source": [
        "### Getting QUBO dictionary\n",
        "\n",
        "`to_qubo` method can be used to construct a QUBO model from a Binary Quadratic Model. If the `vartype` of the BQM is `'SPIN'`, it is converted to `'BINARY'`.\n",
        "\n",
        "This method returns a tuple of form `(biases, offset)` where `biases` is a dictionary of the linear and quadratic terms and `offset` is a number.\n",
        "\n",
        "Let's consider the same `bqm_str` used in the previous example. The QUBO form of the BQM is"
      ]
    },
    {
      "cell_type": "code",
      "execution_count": null,
      "id": "85ff0bea",
      "metadata": {
        "ExecuteTime": {
          "end_time": "2021-09-23T11:52:12.396848Z",
          "start_time": "2021-09-23T11:52:12.355517Z"
        },
        "id": "85ff0bea",
        "outputId": "36dbcb7c-6974-41be-ad11-2007d3ddc41b"
      },
      "outputs": [
        {
          "name": "stdout",
          "output_type": "stream",
          "text": [
            "({('x2', 'x1'): 4.0, ('x3', 'x1'): 8.0, ('x3', 'x2'): 2.0, ('x4', 'x3'): 10.0, ('x1', 'x1'): -5.0, ('x2', 'x2'): -3.0, ('x3', 'x3'): -8.0, ('x4', 'x4'): -6.0}, 0.0)\n"
          ]
        }
      ],
      "source": [
        "qubo_str = bqm_str.to_qubo()\n",
        "\n",
        "print(qubo_str)"
      ]
    },
    {
      "cell_type": "markdown",
      "id": "689e7d3d",
      "metadata": {
        "id": "689e7d3d"
      },
      "source": [
        "In the above output,\n",
        "\n",
        "- The first terms of the tuple correspond to the linear and quadratic terms of the QUBO\n",
        "    \n",
        "    ```python\n",
        "    {('x1', 'x2'): 4, ('x1', 'x3'): 8, ('x2', 'x3'): 2, ('x3', 'x4'): 10,\n",
        "     ('x1', 'x1'): -5.0, ('x2', 'x2'): -3.0, ('x3', 'x3'): -8.0, ('x4', 'x4'): -6.0}\n",
        "    ```\n",
        "    \n",
        "- The second term corresponds to the offset `0`.    "
      ]
    },
    {
      "cell_type": "markdown",
      "id": "c04da5dc",
      "metadata": {
        "id": "c04da5dc"
      },
      "source": [
        "### Task 4\n",
        "\n",
        "Obtain the QUBO dictionary for the bqm formulation you created in Task 1."
      ]
    },
    {
      "cell_type": "code",
      "execution_count": null,
      "id": "711c3931",
      "metadata": {
        "id": "711c3931"
      },
      "outputs": [],
      "source": [
        "# Your code here\n",
        "\n"
      ]
    },
    {
      "cell_type": "markdown",
      "id": "c23a055f",
      "metadata": {
        "id": "c23a055f"
      },
      "source": [
        "[click here for solution](BQM_Conversion_between_Formulations_Solutions.ipynb#Task4)"
      ]
    },
    {
      "cell_type": "markdown",
      "id": "ff69df37",
      "metadata": {
        "id": "ff69df37"
      },
      "source": [
        "## Constructing a BQM from an Ising Model\n"
      ]
    },
    {
      "cell_type": "markdown",
      "id": "8fcbde33",
      "metadata": {
        "id": "8fcbde33"
      },
      "source": [
        "### Through dictionary depresentation\n",
        "\n",
        "As we have already discussed, it is good to know how to represent our problem as a dictionary. We can define the $h$ and  $J$ coefficients as two separate dictionaries.\n",
        "\n",
        "The keys of the dictionary can either be variable names or numbers indicating the position of a particular term.\n",
        "\n",
        "The dictionary representation for $h$ is"
      ]
    },
    {
      "cell_type": "code",
      "execution_count": null,
      "id": "dd7b87b8",
      "metadata": {
        "ExecuteTime": {
          "end_time": "2021-09-23T11:51:25.616345Z",
          "start_time": "2021-09-23T11:51:25.611591Z"
        },
        "id": "dd7b87b8"
      },
      "outputs": [],
      "source": [
        "h = {'s1': 3, 's2': 1,\n",
        "     's3': 4, 's4': 2}"
      ]
    },
    {
      "cell_type": "markdown",
      "id": "140f8b7e",
      "metadata": {
        "id": "140f8b7e"
      },
      "source": [
        "The dictionary representation for $J$ is"
      ]
    },
    {
      "cell_type": "code",
      "execution_count": null,
      "id": "f2888fe7",
      "metadata": {
        "ExecuteTime": {
          "end_time": "2021-09-23T11:51:25.738519Z",
          "start_time": "2021-09-23T11:51:25.633584Z"
        },
        "id": "f2888fe7"
      },
      "outputs": [],
      "source": [
        "J = {('s1', 's2'): 4, ('s1', 's3'): 1,\n",
        "     ('s1', 's4'): 6, ('s3', 's4'): 7}"
      ]
    },
    {
      "cell_type": "markdown",
      "id": "7f78de44",
      "metadata": {
        "id": "7f78de44"
      },
      "source": [
        "A Binary Quadratic Model can be constructed from an Ising Model using the `from_ising` method of the `BinaryQuadraticModel` class.\n",
        "#### `from_ising` method - parameters\n",
        "\n",
        "- `h` - The linear terms should be passed as a dictionary or a list. If it is passed as a list, the indices would be the variable labels.\n",
        "- `J` - The quadratic terms should be passed as a dictionary.\n",
        "- `offset` (optional) - Constant offset\n",
        "\n",
        "Let us create a BQM from the objective function used in the previous example. The linear and quadratic terms are already defined as `h` and `J`. We can simply pass these as arguments to the `from_ising` method."
      ]
    },
    {
      "cell_type": "code",
      "execution_count": null,
      "id": "69b0d691",
      "metadata": {
        "ExecuteTime": {
          "end_time": "2021-09-23T11:51:27.177618Z",
          "start_time": "2021-09-23T11:51:25.742608Z"
        },
        "scrolled": true,
        "id": "69b0d691",
        "outputId": "75c89a86-9538-422e-dbc1-c40699f3f0b0"
      },
      "outputs": [
        {
          "name": "stdout",
          "output_type": "stream",
          "text": [
            "BinaryQuadraticModel({'s1': 3.0, 's2': 1.0, 's3': 4.0, 's4': 2.0}, {('s2', 's1'): 4.0, ('s3', 's1'): 1.0, ('s4', 's1'): 6.0, ('s4', 's3'): 7.0}, 0.0, 'SPIN')\n"
          ]
        }
      ],
      "source": [
        "import dimod\n",
        "\n",
        "h = {'s1': 3, 's2': 1,\n",
        "     's3': 4, 's4': 2}\n",
        "\n",
        "J = {('s1', 's2'): 4, ('s1', 's3'): 1,\n",
        "     ('s1', 's4'): 6, ('s3', 's4'): 7}\n",
        "\n",
        "bqm_ising = BQM.from_ising(h, J)\n",
        "\n",
        "print(bqm_ising)"
      ]
    },
    {
      "cell_type": "markdown",
      "id": "1e2a5b63",
      "metadata": {
        "id": "1e2a5b63"
      },
      "source": [
        "### Task 5\n",
        "\n",
        "Create dictionaries $h$ and $J$ for the following Ising model and obtain bqm model using `from_ising` function.\n",
        "\n",
        "$$s_1 + s_2 + s_3 + s_4 - 6s_1 s_3 - 6s_1 s_4 - 6s_3 s_4 - 6s_1 s_2.$$"
      ]
    },
    {
      "cell_type": "code",
      "execution_count": null,
      "id": "d7d90a24",
      "metadata": {
        "id": "d7d90a24"
      },
      "outputs": [],
      "source": [
        "#Your code here"
      ]
    },
    {
      "cell_type": "markdown",
      "id": "df53243a",
      "metadata": {
        "id": "df53243a"
      },
      "source": [
        "[click here for solution](BQM_Conversion_between_Formulations_Solutions.ipynb#Task5)"
      ]
    },
    {
      "cell_type": "markdown",
      "id": "1f3658ef",
      "metadata": {
        "id": "1f3658ef"
      },
      "source": [
        "## Constructing an Ising Model from a BQM\n",
        "\n",
        "Similarly an Ising Model can be constructed from a Binary Quadratic Model using the `to_ising` method of the `BinaryQuadraticModel` class. If the `vartype` of the BQM is `'BINARY'`, it is converted to `'SPIN'`.\n",
        "\n",
        "### Getting Ising dictionary\n",
        "\n",
        "`to_ising` method returns a tuple of form `(linear, quadratic, offset)` where `linear` and `quadratic` are dictionaries and `offset` is a number.\n",
        "\n",
        "Let's consider the following BQM instance"
      ]
    },
    {
      "cell_type": "code",
      "execution_count": null,
      "id": "2b2ffec1",
      "metadata": {
        "ExecuteTime": {
          "end_time": "2021-09-23T11:51:27.188745Z",
          "start_time": "2021-09-23T11:51:27.184066Z"
        },
        "id": "2b2ffec1"
      },
      "outputs": [],
      "source": [
        "bqm = BQM(\n",
        "    {\"s1\": 3.0, \"s2\": 1.0, \"s3\": 4.0, \"s4\": 2.0},\n",
        "    {(\"s1\", \"s2\"): 4, (\"s1\", \"s3\"): 1, (\"s1\", \"s4\"): 6, (\"s3\", \"s4\"): 7},\n",
        "    0,\n",
        "    \"SPIN\",\n",
        ")"
      ]
    },
    {
      "cell_type": "markdown",
      "id": "4555e700",
      "metadata": {
        "id": "4555e700"
      },
      "source": [
        "Now let's convert it to the Ising form using the `to_ising` method."
      ]
    },
    {
      "cell_type": "code",
      "execution_count": null,
      "id": "b0088091",
      "metadata": {
        "ExecuteTime": {
          "end_time": "2021-09-23T11:51:27.298209Z",
          "start_time": "2021-09-23T11:51:27.194877Z"
        },
        "id": "b0088091",
        "outputId": "6a9103d7-6060-47b4-e23b-490ed6e0f647"
      },
      "outputs": [
        {
          "name": "stdout",
          "output_type": "stream",
          "text": [
            "({'s1': 3.0, 's2': 1.0, 's3': 4.0, 's4': 2.0}, {('s2', 's1'): 4.0, ('s3', 's1'): 1.0, ('s4', 's1'): 6.0, ('s4', 's3'): 7.0}, 0.0)\n"
          ]
        }
      ],
      "source": [
        "ising = bqm.to_ising()\n",
        "\n",
        "print(ising)"
      ]
    },
    {
      "cell_type": "markdown",
      "id": "5a8ebcb6",
      "metadata": {
        "id": "5a8ebcb6"
      },
      "source": [
        "In the above output,\n",
        "\n",
        "- The first term of the tuple corresponds to the linear terms\n",
        "    ```python\n",
        "    {'s1': 3.0, 's2': 1.0, 's3': 4.0, 's4': 2.0}\n",
        "    ```\n",
        "- The second term of the tuple corresponds to the quadratic terms\n",
        "\n",
        "    ```python\n",
        "    {('s1', 's2'): 4, ('s1', 's3'): 1, ('s1', 's4'): 6, ('s3', 's4'): 7}\n",
        "    ```\n",
        "   \n",
        "- The third term corresponds to the offset `0`.    "
      ]
    },
    {
      "cell_type": "markdown",
      "id": "1a2daed6",
      "metadata": {
        "id": "1a2daed6"
      },
      "source": [
        "### Task 6\n",
        "\n",
        "Obtain the Ising model for the bqm formulation you created in Task 2.\n",
        "\n",
        "Note: BQM formulation you created in Task 2 has variable type `BINARY` and it will be converted into `SPIN` after you make the conversion."
      ]
    },
    {
      "cell_type": "code",
      "execution_count": null,
      "id": "651c11fd",
      "metadata": {
        "id": "651c11fd"
      },
      "outputs": [],
      "source": [
        "# Your code here\n",
        "\n"
      ]
    },
    {
      "cell_type": "markdown",
      "id": "dada0427",
      "metadata": {
        "id": "dada0427"
      },
      "source": [
        "[click here for solution](BQM_Conversion_between_Formulations_Solutions.ipynb#Task6)"
      ]
    },
    {
      "cell_type": "markdown",
      "id": "8fe68c84",
      "metadata": {
        "id": "8fe68c84"
      },
      "source": [
        "## Conversion between QUBO and Ising model"
      ]
    },
    {
      "cell_type": "markdown",
      "id": "29526885",
      "metadata": {
        "id": "29526885"
      },
      "source": [
        "As you have seen in Task 6, it is possible to convert between Ising model and QUBO formulation through the `BQM` class.\n",
        "\n",
        "This is the way to follow if you want to make a conversion between the two models: first obtain a `BQM` instance, then use the conversion functions."
      ]
    },
    {
      "cell_type": "markdown",
      "id": "f04e8a9c",
      "metadata": {
        "id": "f04e8a9c"
      },
      "source": [
        "### Task 7\n",
        "\n",
        "Convert the following QUBO formulation into Ising formulation using the `BQM` class.\n",
        "\n",
        "$$5x_1 + 7x_1 x_2 - 3x_2.$$\n",
        "\n",
        "Note: Go back to the following [Ising model conversion](Ising_Model_2.ipynb#Task2) notebook to compare your solution."
      ]
    },
    {
      "cell_type": "code",
      "execution_count": null,
      "id": "e2c6660a",
      "metadata": {
        "id": "e2c6660a"
      },
      "outputs": [],
      "source": [
        "#Your code here\n",
        "\n"
      ]
    },
    {
      "cell_type": "markdown",
      "id": "a83f8d25",
      "metadata": {
        "id": "a83f8d25"
      },
      "source": [
        "[click here for solution](BQM_Conversion_between_Formulations_Solutions.ipynb#Task7)"
      ]
    },
    {
      "cell_type": "markdown",
      "id": "61b2f668",
      "metadata": {
        "id": "61b2f668"
      },
      "source": [
        "### Task 8\n",
        "\n",
        "Convert the following Ising model into QUBO formulation using the `BQM` class.\n",
        "\n",
        "$$s_1s_2 - s_1 + 3s_2.$$\n",
        "\n",
        "Note: Go back to the following [Ising model conversion](Ising_Model_2.ipynb#Task3) notebook to compare your solution."
      ]
    },
    {
      "cell_type": "code",
      "execution_count": null,
      "id": "be797873",
      "metadata": {
        "id": "be797873"
      },
      "outputs": [],
      "source": [
        "#Your code here\n",
        "\n"
      ]
    },
    {
      "cell_type": "markdown",
      "id": "ae0d0f83",
      "metadata": {
        "id": "ae0d0f83"
      },
      "source": [
        "[click here for solution](BQM_Conversion_between_Formulations_Solutions.ipynb#Task8)"
      ]
    }
  ],
  "metadata": {
    "kernelspec": {
      "display_name": "Python 3 (ipykernel)",
      "language": "python",
      "name": "python3"
    },
    "language_info": {
      "codemirror_mode": {
        "name": "ipython",
        "version": 3
      },
      "file_extension": ".py",
      "mimetype": "text/x-python",
      "name": "python",
      "nbconvert_exporter": "python",
      "pygments_lexer": "ipython3",
      "version": "3.8.10"
    },
    "colab": {
      "provenance": [],
      "include_colab_link": true
    }
  },
  "nbformat": 4,
  "nbformat_minor": 5
}