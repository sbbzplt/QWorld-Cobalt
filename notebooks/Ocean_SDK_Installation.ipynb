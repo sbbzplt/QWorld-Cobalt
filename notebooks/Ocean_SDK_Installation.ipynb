{
  "cells": [
    {
      "cell_type": "markdown",
      "metadata": {
        "id": "view-in-github",
        "colab_type": "text"
      },
      "source": [
        "<a href=\"https://colab.research.google.com/github/sbbzplt/QWorld-Cobalt/blob/master/notebooks/Ocean_SDK_Installation.ipynb\" target=\"_parent\"><img src=\"https://colab.research.google.com/assets/colab-badge.svg\" alt=\"Open In Colab\"/></a>"
      ]
    },
    {
      "cell_type": "markdown",
      "metadata": {
        "id": "rEb-pt_7pw71"
      },
      "source": [
        "<table width = \"100%\">\n",
        "  <tr style=\"background-color:white;\">\n",
        "    <!-- QWorld Logo -->\n",
        "    <td style=\"text-align:left;width:200px;\">\n",
        "        <img src=\"https://github.com/sbbzplt/QWorld-Cobalt/blob/master/images/QWorld.png?raw=1\"> </td>\n",
        "    <td style=\"text-align:right;vertical-align:bottom;font-size:16px;\">\n",
        "        Prepared by <a href=\"https://gitlab.com/Sourabh499\" target=\"_blank\"> Sourabh Nutakki </a></td>\n",
        "    </tr>\n",
        " </table>\n",
        "\n",
        "<hr>"
      ]
    },
    {
      "cell_type": "markdown",
      "metadata": {
        "id": "hdzREGCjpw74"
      },
      "source": [
        "## Ocean SDK Installation\n",
        "\n"
      ]
    },
    {
      "cell_type": "markdown",
      "metadata": {
        "id": "T2H3sPR1pw74"
      },
      "source": [
        "Type\n",
        "\n",
        "    !pip install dwave-ocean-sdk\n",
        "    \n",
        "directly inside the cell of a Jupyter notebook.\n",
        "\n",
        "\n",
        "You may also visit the following link for further information.\n",
        "\n",
        "- https://docs.ocean.dwavesys.com/en/stable/overview/install.html#installoceansoftware\n",
        "\n",
        "__*Restart the kernel*__ (check \"Kernel\" menu) to apply the changes to the current notebook.\n",
        "\n",
        "\n",
        "---"
      ]
    },
    {
      "cell_type": "code",
      "source": [
        "!pip install dwave-ocean-sdk"
      ],
      "metadata": {
        "id": "7uRN64gXpzhk"
      },
      "execution_count": null,
      "outputs": []
    },
    {
      "cell_type": "markdown",
      "metadata": {
        "id": "ataKub8Hpw74"
      },
      "source": [
        "### Check Installation\n"
      ]
    },
    {
      "cell_type": "markdown",
      "metadata": {
        "id": "aBrYEPP2pw74"
      },
      "source": [
        "If you can run the following cell without receiving any errors, then your installation should be fine."
      ]
    },
    {
      "cell_type": "code",
      "execution_count": 2,
      "metadata": {
        "id": "cQE0duZ1pw75",
        "outputId": "733174a0-3c6b-4d48-f3bc-8da266a27454",
        "colab": {
          "base_uri": "https://localhost:8080/"
        }
      },
      "outputs": [
        {
          "output_type": "stream",
          "name": "stdout",
          "text": [
            "  x1 x2 y1 energy num_oc.\n",
            "0  0  0  0    0.0       1\n",
            "1  0  1  0    0.0       1\n",
            "3  1  0  0    0.0       1\n",
            "5  1  1  1    0.0       1\n",
            "2  1  1  0    2.0       1\n",
            "4  1  0  1    2.0       1\n",
            "6  0  1  1    2.0       1\n",
            "7  0  0  1    6.0       1\n",
            "['BINARY', 8 rows, 8 samples, 3 variables]\n"
          ]
        }
      ],
      "source": [
        "from dimod import BQM, ExactSolver\n",
        "bqm = BQM({'x1': 0.0, 'x2': 0.0, 'y1': 6.0},\n",
        "                   {('x2', 'x1'): 2.0, ('y1', 'x1'): -4.0, ('y1', 'x2'): -4.0},\n",
        "                      0, 'BINARY')\n",
        "\n",
        "sampler = ExactSolver()\n",
        "response = sampler.sample(bqm)\n",
        "print(response)\n",
        "\n",
        "# should print:\n",
        "#    x1 x2 y1 energy num_oc.\n",
        "# 0  0  0  0    0.0       1\n",
        "# 1  1  0  0    0.0       1\n",
        "# 3  0  1  0    0.0       1\n",
        "# 5  1  1  1    0.0       1\n",
        "# 2  1  1  0    2.0       1\n",
        "# 4  0  1  1    2.0       1\n",
        "# 6  1  0  1    2.0       1\n",
        "# 7  0  0  1    6.0       1\n",
        "# ['BINARY', 8 rows, 8 samples, 3 variables]"
      ]
    },
    {
      "cell_type": "markdown",
      "metadata": {
        "id": "_VzDqoWrpw76"
      },
      "source": [
        "---"
      ]
    },
    {
      "cell_type": "markdown",
      "metadata": {
        "id": "JeQ44gV6pw76"
      },
      "source": [
        "### Configuring access to D-Wave solvers"
      ]
    },
    {
      "cell_type": "markdown",
      "metadata": {
        "id": "yicKv72_pw77"
      },
      "source": [
        "In order to run the problems on D-Wave QPU's, you need to make a configuration. However, you may not have access depending on your region. Please check this [website](https://docs.ocean.dwavesys.com/en/stable/overview/sapi.html#sapi-access) for further details and instructions for configuration."
      ]
    }
  ],
  "metadata": {
    "kernelspec": {
      "display_name": "Python 3",
      "language": "python",
      "name": "python3"
    },
    "language_info": {
      "codemirror_mode": {
        "name": "ipython",
        "version": 3
      },
      "file_extension": ".py",
      "mimetype": "text/x-python",
      "name": "python",
      "nbconvert_exporter": "python",
      "pygments_lexer": "ipython3",
      "version": "3.7.3"
    },
    "colab": {
      "provenance": [],
      "include_colab_link": true
    }
  },
  "nbformat": 4,
  "nbformat_minor": 0
}